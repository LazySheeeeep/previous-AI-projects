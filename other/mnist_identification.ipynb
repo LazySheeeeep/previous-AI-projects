{
 "cells": [
  {
   "cell_type": "code",
   "execution_count": 1,
   "metadata": {
    "collapsed": false,
    "execution": {
     "iopub.execute_input": "2022-11-29T10:52:59.081257Z",
     "iopub.status.busy": "2022-11-29T10:52:59.080817Z",
     "iopub.status.idle": "2022-11-29T10:52:59.086307Z",
     "shell.execute_reply": "2022-11-29T10:52:59.085456Z",
     "shell.execute_reply.started": "2022-11-29T10:52:59.081215Z"
    },
    "jupyter": {
     "outputs_hidden": false
    },
    "scrolled": true,
    "tags": []
   },
   "outputs": [],
   "source": [
    "# # 如果需要进行持久化安装, 需要使用持久化路径, 如下方代码示例:\n",
    "# !mkdir /home/aistudio/external-libraries\n",
    "# # 安装pandas到指定目录\n",
    "# !pip install pandas -t /home/aistudio/external-libraries\n",
    "\n",
    "# # 同时添加如下代码, 这样每次环境(kernel)启动的时候只要运行下方代码即可: \n",
    "# import sys \n",
    "# sys.path.append('/home/aistudio/external-libraries')"
   ]
  },
  {
   "cell_type": "markdown",
   "metadata": {},
   "source": [
    "# 一、数据处理"
   ]
  },
  {
   "cell_type": "code",
   "execution_count": 1,
   "metadata": {
    "execution": {
     "iopub.execute_input": "2022-11-29T12:10:02.172238Z",
     "iopub.status.busy": "2022-11-29T12:10:02.170999Z",
     "iopub.status.idle": "2022-11-29T12:10:03.818521Z",
     "shell.execute_reply": "2022-11-29T12:10:03.817319Z",
     "shell.execute_reply.started": "2022-11-29T12:10:02.172203Z"
    },
    "scrolled": true,
    "tags": []
   },
   "outputs": [],
   "source": [
    "import paddle\n",
    "import os\n",
    "import cv2\n",
    "from cv2 import IMREAD_GRAYSCALE\n",
    "import numpy as np\n",
    "class MyDataset(paddle.io.Dataset):\n",
    "    def __init__(self, data_dir, label_path, transform=None):\n",
    "        super(MyDataset, self).__init__()\n",
    "        self.datalist = []\n",
    "        with open(label_path, encoding='utf-8') as f:\n",
    "            for line in f.readlines():\n",
    "                line = line.strip().split(\"\\t\")\n",
    "                image_path, label = line[0], line[1]\n",
    "                image_path = os.path.join(data_dir, image_path)\n",
    "                self.datalist.append([image_path, label])\n",
    "        self.transform = transform\n",
    "    \n",
    "    def __getitem__(self, index):\n",
    "        image_path, label = self.datalist[index]\n",
    "        image = cv2.imread(image_path, flags=IMREAD_GRAYSCALE)\n",
    "        image = image.astype(\"float32\")\n",
    "        if self.transform is not None:\n",
    "            image = self.transform(image)\n",
    "            image = image[0]\n",
    "        label = np.array([label], dtype='int64')\n",
    "        return image, label\n",
    "\n",
    "    def __len__(self):\n",
    "        return len(self.datalist)\n",
    "    "
   ]
  },
  {
   "cell_type": "code",
   "execution_count": 2,
   "metadata": {
    "execution": {
     "iopub.execute_input": "2022-11-29T12:10:03.874692Z",
     "iopub.status.busy": "2022-11-29T12:10:03.874085Z",
     "iopub.status.idle": "2022-11-29T12:10:04.008603Z",
     "shell.execute_reply": "2022-11-29T12:10:04.007632Z",
     "shell.execute_reply.started": "2022-11-29T12:10:03.874667Z"
    },
    "scrolled": true,
    "tags": []
   },
   "outputs": [
    {
     "name": "stdout",
     "output_type": "stream",
     "text": [
      "train_dataset_images: 60000\r\n",
      "test_dataset_images: 10000\r\n"
     ]
    }
   ],
   "source": [
    "transform = paddle.vision.transforms.Normalize(mean=127.5, std=127.5, data_format=\"CHW\")\n",
    "mnist_path = './data/data179656/mnist'\n",
    "train_dataset = MyDataset(os.path.join(mnist_path, 'train'), os.path.join(mnist_path, 'train/label.txt'), transform)\n",
    "test_dataset = MyDataset(os.path.join(mnist_path, 'val'), os.path.join(mnist_path, 'val/label.txt'), transform)\n",
    "print('train_dataset_images:', len(train_dataset))\n",
    "print(\"test_dataset_images:\", len(test_dataset))\n"
   ]
  },
  {
   "cell_type": "code",
   "execution_count": 4,
   "metadata": {
    "execution": {
     "iopub.execute_input": "2022-11-29T12:10:15.981788Z",
     "iopub.status.busy": "2022-11-29T12:10:15.980603Z",
     "iopub.status.idle": "2022-11-29T12:10:16.301847Z",
     "shell.execute_reply": "2022-11-29T12:10:16.300183Z",
     "shell.execute_reply.started": "2022-11-29T12:10:15.981754Z"
    },
    "scrolled": true,
    "tags": []
   },
   "outputs": [
    {
     "name": "stdout",
     "output_type": "stream",
     "text": [
      "batch id: 0, 训练数据shape: [64, 28, 28], 训练标签shape: [64, 1]\r\n",
      "label: 8\r\n"
     ]
    },
    {
     "data": {
      "image/png": "[encoded data removed]",
      "text/plain": [
       "<Figure size 200x200 with 1 Axes>"
      ]
     },
     "metadata": {},
     "output_type": "display_data"
    }
   ],
   "source": [
    "import matplotlib.pyplot as plt\n",
    "train_loader = paddle.io.DataLoader(train_dataset, batch_size=64, shuffle=True, num_workers=1)\n",
    "for batch_id, (images, labels) in enumerate(train_loader):\n",
    "    print(f\"batch id: {batch_id}, 训练数据shape: {images.shape}, 训练标签shape: {labels.shape}\")\n",
    "    plt.figure(figsize=(2,2))\n",
    "    i = 60\n",
    "    plt.imshow(images[i])\n",
    "    print(\"label:\", labels[i].item())\n",
    "    break\n"
   ]
  },
  {
   "cell_type": "markdown",
   "metadata": {},
   "source": [
    "# 二、模型设计"
   ]
  },
  {
   "cell_type": "code",
   "execution_count": 5,
   "metadata": {
    "execution": {
     "iopub.execute_input": "2022-11-29T12:10:21.316480Z",
     "iopub.status.busy": "2022-11-29T12:10:21.315557Z",
     "iopub.status.idle": "2022-11-29T12:10:21.323318Z",
     "shell.execute_reply": "2022-11-29T12:10:21.322569Z",
     "shell.execute_reply.started": "2022-11-29T12:10:21.316446Z"
    },
    "scrolled": true,
    "tags": []
   },
   "outputs": [],
   "source": [
    "class MyDNN(paddle.nn.Layer):\n",
    "    def __init__(self):\n",
    "        super(MyDNN, self).__init__()\n",
    "        self.linear1 = paddle.nn.Linear(in_features=1*28*28, out_features=50)\n",
    "        self.relu1 = paddle.nn.ReLU()\n",
    "        self.linear2 = paddle.nn.Linear(in_features=50, out_features=50)\n",
    "        self.relu2 = paddle.nn.ReLU()\n",
    "        self.linear3 = paddle.nn.Linear(in_features=50, out_features=10)\n",
    "        self.softmax = paddle.nn.Softmax()\n",
    "    \n",
    "    def forward(self, input):\n",
    "        x = paddle.reshape(input, shape=[-1,1*28*28])\n",
    "        x = self.relu1(self.linear1(x))\n",
    "        x = self.relu2(self.linear2(x))\n",
    "        return self.softmax(self.linear3(x))\n"
   ]
  },
  {
   "cell_type": "markdown",
   "metadata": {},
   "source": [
    "# 三、模型训练"
   ]
  },
  {
   "cell_type": "code",
   "execution_count": 13,
   "metadata": {
    "execution": {
     "iopub.execute_input": "2022-11-29T12:13:01.049092Z",
     "iopub.status.busy": "2022-11-29T12:13:01.048168Z",
     "iopub.status.idle": "2022-11-29T12:13:53.153618Z",
     "shell.execute_reply": "2022-11-29T12:13:53.152256Z",
     "shell.execute_reply.started": "2022-11-29T12:13:01.049058Z"
    },
    "scrolled": true,
    "tags": []
   },
   "outputs": [
    {
     "name": "stdout",
     "output_type": "stream",
     "text": [
      "epoch:1/10, batch_id:100, loss:[1.7954395]\t, accuracy:[0.703125]\r\n",
      "epoch:1/10, batch_id:200, loss:[1.8531218]\t, accuracy:[0.625]\r\n",
      "epoch:1/10, batch_id:300, loss:[1.8548498]\t, accuracy:[0.625]\r\n",
      "epoch:1/10, batch_id:400, loss:[1.8659321]\t, accuracy:[0.578125]\r\n",
      "epoch:1/10, batch_id:500, loss:[1.7113037]\t, accuracy:[0.765625]\r\n",
      "epoch:1/10, batch_id:600, loss:[1.6960232]\t, accuracy:[0.78125]\r\n",
      "epoch:1/10, batch_id:700, loss:[1.7194028]\t, accuracy:[0.75]\r\n",
      "epoch:1/10, batch_id:800, loss:[1.6733601]\t, accuracy:[0.8125]\r\n",
      "epoch:1/10, batch_id:900, loss:[1.806128]\t, accuracy:[0.671875]\r\n",
      "epoch:2/10, batch_id:100, loss:[1.701364]\t, accuracy:[0.765625]\r\n",
      "epoch:2/10, batch_id:200, loss:[1.6469016]\t, accuracy:[0.828125]\r\n",
      "epoch:2/10, batch_id:300, loss:[1.6500835]\t, accuracy:[0.8125]\r\n",
      "epoch:2/10, batch_id:400, loss:[1.7875024]\t, accuracy:[0.6875]\r\n",
      "epoch:2/10, batch_id:500, loss:[1.6856301]\t, accuracy:[0.78125]\r\n",
      "epoch:2/10, batch_id:600, loss:[1.6629733]\t, accuracy:[0.796875]\r\n",
      "epoch:2/10, batch_id:700, loss:[1.6195068]\t, accuracy:[0.859375]\r\n",
      "epoch:2/10, batch_id:800, loss:[1.5920897]\t, accuracy:[0.875]\r\n",
      "epoch:2/10, batch_id:900, loss:[1.6750553]\t, accuracy:[0.78125]\r\n",
      "epoch:3/10, batch_id:100, loss:[1.529513]\t, accuracy:[0.9375]\r\n",
      "epoch:3/10, batch_id:200, loss:[1.6335185]\t, accuracy:[0.828125]\r\n",
      "epoch:3/10, batch_id:300, loss:[1.6079245]\t, accuracy:[0.859375]\r\n",
      "epoch:3/10, batch_id:400, loss:[1.5897945]\t, accuracy:[0.875]\r\n",
      "epoch:3/10, batch_id:500, loss:[1.6488556]\t, accuracy:[0.8125]\r\n",
      "epoch:3/10, batch_id:600, loss:[1.5901037]\t, accuracy:[0.859375]\r\n",
      "epoch:3/10, batch_id:700, loss:[1.5375283]\t, accuracy:[0.921875]\r\n",
      "epoch:3/10, batch_id:800, loss:[1.5619388]\t, accuracy:[0.90625]\r\n",
      "epoch:3/10, batch_id:900, loss:[1.6364617]\t, accuracy:[0.828125]\r\n",
      "epoch:4/10, batch_id:100, loss:[1.6078718]\t, accuracy:[0.84375]\r\n",
      "epoch:4/10, batch_id:200, loss:[1.7199028]\t, accuracy:[0.734375]\r\n",
      "epoch:4/10, batch_id:300, loss:[1.6459453]\t, accuracy:[0.8125]\r\n",
      "epoch:4/10, batch_id:400, loss:[1.5660083]\t, accuracy:[0.890625]\r\n",
      "epoch:4/10, batch_id:500, loss:[1.5675774]\t, accuracy:[0.890625]\r\n",
      "epoch:4/10, batch_id:600, loss:[1.5780733]\t, accuracy:[0.890625]\r\n",
      "epoch:4/10, batch_id:700, loss:[1.5393304]\t, accuracy:[0.921875]\r\n",
      "epoch:4/10, batch_id:800, loss:[1.5949777]\t, accuracy:[0.859375]\r\n",
      "epoch:4/10, batch_id:900, loss:[1.6015973]\t, accuracy:[0.859375]\r\n",
      "epoch:5/10, batch_id:100, loss:[1.6611881]\t, accuracy:[0.796875]\r\n",
      "epoch:5/10, batch_id:200, loss:[1.693881]\t, accuracy:[0.765625]\r\n",
      "epoch:5/10, batch_id:300, loss:[1.5419297]\t, accuracy:[0.921875]\r\n",
      "epoch:5/10, batch_id:400, loss:[1.616955]\t, accuracy:[0.84375]\r\n",
      "epoch:5/10, batch_id:500, loss:[1.6038449]\t, accuracy:[0.859375]\r\n",
      "epoch:5/10, batch_id:600, loss:[1.5825956]\t, accuracy:[0.875]\r\n",
      "epoch:5/10, batch_id:700, loss:[1.5274562]\t, accuracy:[0.9375]\r\n",
      "epoch:5/10, batch_id:800, loss:[1.6192234]\t, accuracy:[0.84375]\r\n",
      "epoch:5/10, batch_id:900, loss:[1.6100051]\t, accuracy:[0.84375]\r\n",
      "epoch:6/10, batch_id:100, loss:[1.6200402]\t, accuracy:[0.84375]\r\n",
      "epoch:6/10, batch_id:200, loss:[1.6023595]\t, accuracy:[0.859375]\r\n",
      "epoch:6/10, batch_id:300, loss:[1.5335057]\t, accuracy:[0.921875]\r\n",
      "epoch:6/10, batch_id:400, loss:[1.6000568]\t, accuracy:[0.859375]\r\n",
      "epoch:6/10, batch_id:500, loss:[1.5864284]\t, accuracy:[0.875]\r\n",
      "epoch:6/10, batch_id:600, loss:[1.5696568]\t, accuracy:[0.875]\r\n",
      "epoch:6/10, batch_id:700, loss:[1.5101277]\t, accuracy:[0.953125]\r\n",
      "epoch:6/10, batch_id:800, loss:[1.5989909]\t, accuracy:[0.859375]\r\n",
      "epoch:6/10, batch_id:900, loss:[1.610189]\t, accuracy:[0.859375]\r\n",
      "epoch:7/10, batch_id:100, loss:[1.5818009]\t, accuracy:[0.875]\r\n",
      "epoch:7/10, batch_id:200, loss:[1.5558136]\t, accuracy:[0.90625]\r\n",
      "epoch:7/10, batch_id:300, loss:[1.5789708]\t, accuracy:[0.890625]\r\n",
      "epoch:7/10, batch_id:400, loss:[1.6474587]\t, accuracy:[0.8125]\r\n",
      "epoch:7/10, batch_id:500, loss:[1.6058478]\t, accuracy:[0.859375]\r\n",
      "epoch:7/10, batch_id:600, loss:[1.5618185]\t, accuracy:[0.90625]\r\n",
      "epoch:7/10, batch_id:700, loss:[1.5532072]\t, accuracy:[0.90625]\r\n",
      "epoch:7/10, batch_id:800, loss:[1.5631847]\t, accuracy:[0.90625]\r\n",
      "epoch:7/10, batch_id:900, loss:[1.6284065]\t, accuracy:[0.828125]\r\n",
      "epoch:8/10, batch_id:100, loss:[1.587655]\t, accuracy:[0.875]\r\n",
      "epoch:8/10, batch_id:200, loss:[1.5476131]\t, accuracy:[0.921875]\r\n",
      "epoch:8/10, batch_id:300, loss:[1.6757505]\t, accuracy:[0.78125]\r\n",
      "epoch:8/10, batch_id:400, loss:[1.538893]\t, accuracy:[0.921875]\r\n",
      "epoch:8/10, batch_id:500, loss:[1.6409543]\t, accuracy:[0.828125]\r\n",
      "epoch:8/10, batch_id:600, loss:[1.6103914]\t, accuracy:[0.84375]\r\n",
      "epoch:8/10, batch_id:700, loss:[1.6007878]\t, accuracy:[0.859375]\r\n",
      "epoch:8/10, batch_id:800, loss:[1.5387218]\t, accuracy:[0.921875]\r\n",
      "epoch:8/10, batch_id:900, loss:[1.6460824]\t, accuracy:[0.8125]\r\n",
      "epoch:9/10, batch_id:100, loss:[1.5875182]\t, accuracy:[0.875]\r\n",
      "epoch:9/10, batch_id:200, loss:[1.5925882]\t, accuracy:[0.875]\r\n",
      "epoch:9/10, batch_id:300, loss:[1.4803523]\t, accuracy:[0.984375]\r\n",
      "epoch:9/10, batch_id:400, loss:[1.4793258]\t, accuracy:[0.984375]\r\n",
      "epoch:9/10, batch_id:500, loss:[1.5462749]\t, accuracy:[0.90625]\r\n",
      "epoch:9/10, batch_id:600, loss:[1.4905512]\t, accuracy:[0.984375]\r\n",
      "epoch:9/10, batch_id:700, loss:[1.5206556]\t, accuracy:[0.921875]\r\n",
      "epoch:9/10, batch_id:800, loss:[1.4727676]\t, accuracy:[1.]\r\n",
      "epoch:9/10, batch_id:900, loss:[1.493399]\t, accuracy:[0.96875]\r\n",
      "epoch:10/10, batch_id:100, loss:[1.6026316]\t, accuracy:[0.875]\r\n",
      "epoch:10/10, batch_id:200, loss:[1.540751]\t, accuracy:[0.921875]\r\n",
      "epoch:10/10, batch_id:300, loss:[1.568054]\t, accuracy:[0.890625]\r\n",
      "epoch:10/10, batch_id:400, loss:[1.4953535]\t, accuracy:[0.96875]\r\n",
      "epoch:10/10, batch_id:500, loss:[1.4888855]\t, accuracy:[0.96875]\r\n",
      "epoch:10/10, batch_id:600, loss:[1.4735366]\t, accuracy:[1.]\r\n",
      "epoch:10/10, batch_id:700, loss:[1.5325723]\t, accuracy:[0.921875]\r\n",
      "epoch:10/10, batch_id:800, loss:[1.5302318]\t, accuracy:[0.921875]\r\n",
      "epoch:10/10, batch_id:900, loss:[1.4792169]\t, accuracy:[0.984375]\r\n"
     ]
    }
   ],
   "source": [
    "myDNN = MyDNN()\n",
    "epoch = 10\n",
    "optimizer = paddle.optimizer.Adam(learning_rate=0.001, parameters=myDNN.parameters())\n",
    "loss_func = paddle.nn.CrossEntropyLoss()\n",
    "myDNN.train()\n",
    "for epoch_id in range(epoch):\n",
    "    for batch_id, (images, labels) in enumerate(train_loader):\n",
    "        predicts = myDNN(images)\n",
    "        loss = loss_func(predicts, labels)\n",
    "        acc = paddle.metric.accuracy(predicts, labels)\n",
    "        loss.backward()\n",
    "        if (batch_id + 1) % 100 == 0:\n",
    "            print(f\"epoch:{epoch_id + 1}/{epoch}, batch_id:{batch_id + 1}, loss:{loss.numpy()}\\t, accuracy:{acc.numpy()}\")\n",
    "        optimizer.step()\n",
    "        optimizer.clear_grad()\n"
   ]
  },
  {
   "cell_type": "markdown",
   "metadata": {},
   "source": [
    "# 四、模型评估与推理"
   ]
  },
  {
   "cell_type": "code",
   "execution_count": 14,
   "metadata": {
    "execution": {
     "iopub.execute_input": "2022-11-29T12:14:35.407463Z",
     "iopub.status.busy": "2022-11-29T12:14:35.406258Z",
     "iopub.status.idle": "2022-11-29T12:14:36.714589Z",
     "shell.execute_reply": "2022-11-29T12:14:36.713421Z",
     "shell.execute_reply.started": "2022-11-29T12:14:35.407426Z"
    },
    "scrolled": true,
    "tags": []
   },
   "outputs": [
    {
     "name": "stdout",
     "output_type": "stream",
     "text": [
      "batch_id:30, loss:[1.5418118]\t, accuracy:[0.90625]\r\n",
      "batch_id:60, loss:[1.5687321]\t, accuracy:[0.890625]\r\n",
      "batch_id:90, loss:[1.5086946]\t, accuracy:[0.953125]\r\n",
      "batch_id:120, loss:[1.4722354]\t, accuracy:[0.984375]\r\n",
      "batch_id:150, loss:[1.5177898]\t, accuracy:[0.953125]\r\n",
      "true:7, predict:7\r\n"
     ]
    },
    {
     "data": {
      "text/plain": [
       "<matplotlib.image.AxesImage at 0x7f136c9bac50>"
      ]
     },
     "execution_count": 14,
     "metadata": {},
     "output_type": "execute_result"
    },
    {
     "data": {
      "image/png": "[encoded data removed]",
      "text/plain": [
       "<Figure size 640x480 with 1 Axes>"
      ]
     },
     "metadata": {},
     "output_type": "display_data"
    }
   ],
   "source": [
    "test_loader = paddle.io.DataLoader(test_dataset, batch_size=64, drop_last=True)\r\n",
    "myDNN.eval()\r\n",
    "for batch_id, (images, labels) in enumerate(test_loader):\r\n",
    "    predicts = myDNN(images)\r\n",
    "    loss = loss_func(predicts, labels)\r\n",
    "    acc = paddle.metric.accuracy(predicts, labels)\r\n",
    "    if (batch_id + 1) % 30 == 0:\r\n",
    "        print(f\"batch_id:{batch_id + 1}, loss:{loss.numpy()}\\t, accuracy:{acc.numpy()}\")\r\n",
    "images_, labels_ = test_loader().next()\r\n",
    "i = 0\r\n",
    "predict_label = myDNN(images_)[i].argmax()\r\n",
    "print(f\"true:{labels_[i].item()}, predict:{predict_label[i].item()}\")\r\n",
    "plt.imshow(images_[i])"
   ]
  },
  {
   "cell_type": "code",
   "execution_count": 15,
   "metadata": {
    "execution": {
     "iopub.execute_input": "2022-11-29T12:14:52.341205Z",
     "iopub.status.busy": "2022-11-29T12:14:52.340457Z",
     "iopub.status.idle": "2022-11-29T12:14:52.347870Z",
     "shell.execute_reply": "2022-11-29T12:14:52.347147Z",
     "shell.execute_reply.started": "2022-11-29T12:14:52.341167Z"
    },
    "scrolled": true,
    "tags": []
   },
   "outputs": [],
   "source": [
    "paddle.save(myDNN.state_dict(), \"LinearNet_LayerParams.pdparams\")\r\n",
    "paddle.save(optimizer.state_dict(), \"Optimizer_AdamParams.adopt\")"
   ]
  },
  {
   "cell_type": "code",
   "execution_count": 16,
   "metadata": {
    "execution": {
     "iopub.execute_input": "2022-11-29T12:14:55.708844Z",
     "iopub.status.busy": "2022-11-29T12:14:55.708080Z",
     "iopub.status.idle": "2022-11-29T12:14:55.718910Z",
     "shell.execute_reply": "2022-11-29T12:14:55.718128Z",
     "shell.execute_reply.started": "2022-11-29T12:14:55.708810Z"
    },
    "scrolled": true,
    "tags": []
   },
   "outputs": [],
   "source": [
    "layer_dict = paddle.load(\"LinearNet_LayerParams.pdparams\")\r\n",
    "opti_dict = paddle.load(\"Optimizer_AdamParams.adopt\")\r\n",
    "\r\n",
    "myNet = MyDNN()\r\n",
    "myNet.set_state_dict(layer_dict)\r\n",
    "optimizer2 = paddle.optimizer.Adam(learning_rate=0.001, parameters=myNet.parameters())\r\n",
    "optimizer2.set_state_dict(opti_dict)"
   ]
  },
  {
   "cell_type": "code",
   "execution_count": 17,
   "metadata": {
    "execution": {
     "iopub.execute_input": "2022-11-29T12:15:01.517524Z",
     "iopub.status.busy": "2022-11-29T12:15:01.516768Z",
     "iopub.status.idle": "2022-11-29T12:15:02.654618Z",
     "shell.execute_reply": "2022-11-29T12:15:02.653785Z",
     "shell.execute_reply.started": "2022-11-29T12:15:01.517479Z"
    },
    "scrolled": true,
    "tags": []
   },
   "outputs": [
    {
     "name": "stdout",
     "output_type": "stream",
     "text": [
      "batch_id:30, loss:[1.5418118]\t, accuracy:[0.90625]\r\n",
      "batch_id:60, loss:[1.5687321]\t, accuracy:[0.890625]\r\n",
      "batch_id:90, loss:[1.5086946]\t, accuracy:[0.953125]\r\n",
      "batch_id:120, loss:[1.4722354]\t, accuracy:[0.984375]\r\n",
      "batch_id:150, loss:[1.5177898]\t, accuracy:[0.953125]\r\n",
      "true:3, predict:3\r\n"
     ]
    },
    {
     "data": {
      "text/plain": [
       "<matplotlib.image.AxesImage at 0x7f136dc7b290>"
      ]
     },
     "execution_count": 17,
     "metadata": {},
     "output_type": "execute_result"
    },
    {
     "data": {
      "image/png": "[encoded data removed]",
      "text/plain": [
       "<Figure size 640x480 with 1 Axes>"
      ]
     },
     "metadata": {},
     "output_type": "display_data"
    }
   ],
   "source": [
    "myNet.eval()\r\n",
    "for batch_id, (images, labels) in enumerate(test_loader):\r\n",
    "    predicts = myNet(images)\r\n",
    "    loss = loss_func(predicts, labels)\r\n",
    "    acc = paddle.metric.accuracy(predicts, labels)\r\n",
    "    if (batch_id + 1) % 30 == 0:\r\n",
    "        print(f\"batch_id:{batch_id + 1}, loss:{loss.numpy()}\\t, accuracy:{acc.numpy()}\")\r\n",
    "images_, labels_ = test_loader().next()\r\n",
    "i = -1\r\n",
    "predict_label = myDNN(images_)[i].argmax()\r\n",
    "print(f\"true:{labels_[i].item()}, predict:{predict_label[i].item()}\")\r\n",
    "plt.imshow(images_[i])"
   ]
  },
  {
   "cell_type": "code",
   "execution_count": null,
   "metadata": {
    "scrolled": true
   },
   "outputs": [],
   "source": []
  }
 ],
 "metadata": {
  "kernelspec": {
   "display_name": "Python 3",
   "language": "python",
   "name": "py35-paddle1.2.0"
  },
  "language_info": {
   "codemirror_mode": {
    "name": "ipython",
    "version": 3
   },
   "file_extension": ".py",
   "mimetype": "text/x-python",
   "name": "python",
   "nbconvert_exporter": "python",
   "pygments_lexer": "ipython3",
   "version": "3.7.4"
  }
 },
 "nbformat": 4,
 "nbformat_minor": 4
}
