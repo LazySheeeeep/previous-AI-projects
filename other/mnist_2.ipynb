{
 "cells": [
  {
   "cell_type": "markdown",
   "metadata": {},
   "source": [
    "# 一、数据处理"
   ]
  },
  {
   "cell_type": "code",
   "execution_count": 1,
   "metadata": {
    "execution": {
     "iopub.execute_input": "2022-12-14T07:33:51.259669Z",
     "iopub.status.busy": "2022-12-14T07:33:51.259135Z",
     "iopub.status.idle": "2022-12-14T07:33:52.983568Z",
     "shell.execute_reply": "2022-12-14T07:33:52.982442Z",
     "shell.execute_reply.started": "2022-12-14T07:33:51.259639Z"
    },
    "scrolled": true,
    "tags": []
   },
   "outputs": [],
   "source": [
    "import paddle\n",
    "import os\n",
    "import cv2\n",
    "import numpy as np\n",
    "class MyDataset(paddle.io.Dataset):\n",
    "    \"\"\"\n",
    "    继承paddle.io.Dataset类\n",
    "    \"\"\"\n",
    "    def __init__(self, data_dir, label_path, transform=None):\n",
    "        \"\"\"\n",
    "        初始化数据集\n",
    "        \"\"\"\n",
    "        super(MyDataset, self).__init__()\n",
    "        self.datalist = []\n",
    "        with open(label_path, encoding='utf-8') as f:\n",
    "            for line in f.readlines():  # 对每一行\n",
    "                image_path, label = line.strip().split(\"\\t\")  # 去除去除空白并且从制表符处分裂\n",
    "                image_path = os.path.join(data_dir, image_path)  # 合并路径生成完整的图片文件路径\n",
    "                # 将图片的文件路径以及标签组合起来纳入数据列表\n",
    "                self.datalist.append([image_path, label])\n",
    "        # 传入定义好的数据处理方法，并且作为一个属性\n",
    "        self.transform = transform\n",
    "    \n",
    "    def __getitem__(self, index):\n",
    "        \"\"\"\n",
    "        完成该函数可以在指定index下标时获取到数据\n",
    "        \"\"\"\n",
    "        image_path, label = self.datalist[index]  # 解包\n",
    "        image = cv2.imread(image_path, cv2.IMREAD_GRAYSCALE)  # 读取单通道的灰度图\n",
    "        image = image.astype(\"float32\")  # 转换成paddle内部运行时用的数据类型\n",
    "        if self.transform is not None:\n",
    "            image = self.transform(image)  # 转换之后会多一个通道\n",
    "            image = image[0]  # 由于只有一个通道，删去多余的维度\n",
    "        # CrossEntropyLoss要求label格式为int，将Label格式转换为 int\n",
    "        label = np.array([label],dtype = \"int64\")\n",
    "        # 返回图像和对应标签\n",
    "        return image, label\n",
    "\n",
    "    def __len__(self):\n",
    "        \"\"\"\n",
    "        实现len函数，返回数据集的样本总数\n",
    "        \"\"\"\n",
    "        return len(self.datalist)\n",
    "    "
   ]
  },
  {
   "cell_type": "code",
   "execution_count": 2,
   "metadata": {
    "execution": {
     "iopub.execute_input": "2022-12-14T07:33:52.985562Z",
     "iopub.status.busy": "2022-12-14T07:33:52.984970Z",
     "iopub.status.idle": "2022-12-14T07:33:53.118663Z",
     "shell.execute_reply": "2022-12-14T07:33:53.117792Z",
     "shell.execute_reply.started": "2022-12-14T07:33:52.985527Z"
    },
    "scrolled": true,
    "tags": []
   },
   "outputs": [
    {
     "name": "stdout",
     "output_type": "stream",
     "text": [
      "train_dataset_images: 60000\r\n",
      "test_dataset_images: 10000\r\n"
     ]
    }
   ],
   "source": [
    "# mean (list tuple，可选) - 用于每个通道归一化的均值。\n",
    "# std (listltuple，可选) - 用于每个通道归一化的标准差值.\n",
    "# data format (str，可选) - 数据的格式，必须为HWC 或CHW。 默认值为CHW。\n",
    "# 定义图像归一化处理方法，这里的CHW指图像格式需为 [C通道数，H图像高度，w图像宽度]\n",
    "transform = paddle.vision.transforms.Normalize(mean=[127.5], std=[127.5], data_format=\"CHW\")\n",
    "mnist_path = './data/data179656/mnist'\n",
    "train_dataset = MyDataset(os.path.join(mnist_path, 'train'), os.path.join(mnist_path, 'train/label.txt'), transform)\n",
    "test_dataset = MyDataset(os.path.join(mnist_path, 'val'), os.path.join(mnist_path, 'val/label.txt'), transform)\n",
    "# 打印数据集样本数\n",
    "print('train_dataset_images:', len(train_dataset))\n",
    "print(\"test_dataset_images:\", len(test_dataset))\n"
   ]
  },
  {
   "cell_type": "code",
   "execution_count": 3,
   "metadata": {
    "execution": {
     "iopub.execute_input": "2022-12-14T07:33:53.120252Z",
     "iopub.status.busy": "2022-12-14T07:33:53.119858Z",
     "iopub.status.idle": "2022-12-14T07:33:55.394975Z",
     "shell.execute_reply": "2022-12-14T07:33:55.393711Z",
     "shell.execute_reply.started": "2022-12-14T07:33:53.120222Z"
    },
    "scrolled": true,
    "tags": []
   },
   "outputs": [
    {
     "name": "stderr",
     "output_type": "stream",
     "text": [
      "/opt/conda/envs/python35-paddle120-env/lib/python3.7/site-packages/matplotlib/__init__.py:107: DeprecationWarning: Using or importing the ABCs from 'collections' instead of from 'collections.abc' is deprecated, and in 3.8 it will stop working\r\n",
      "  from collections import MutableMapping\r\n",
      "/opt/conda/envs/python35-paddle120-env/lib/python3.7/site-packages/matplotlib/rcsetup.py:20: DeprecationWarning: Using or importing the ABCs from 'collections' instead of from 'collections.abc' is deprecated, and in 3.8 it will stop working\r\n",
      "  from collections import Iterable, Mapping\r\n",
      "/opt/conda/envs/python35-paddle120-env/lib/python3.7/site-packages/matplotlib/colors.py:53: DeprecationWarning: Using or importing the ABCs from 'collections' instead of from 'collections.abc' is deprecated, and in 3.8 it will stop working\r\n",
      "  from collections import Sized\r\n"
     ]
    },
    {
     "name": "stdout",
     "output_type": "stream",
     "text": [
      "batch id: 0, 训练数据shape: [64, 28, 28], 训练标签shape: [64, 1]\r\n",
      "label: 6\r\n"
     ]
    },
    {
     "name": "stderr",
     "output_type": "stream",
     "text": [
      "W1214 15:33:55.187888  1175 gpu_resources.cc:61] Please NOTE: device: 0, GPU Compute Capability: 7.0, Driver API Version: 11.2, Runtime API Version: 11.2\r\n",
      "W1214 15:33:55.193331  1175 gpu_resources.cc:91] device: 0, cuDNN Version: 8.2.\r\n",
      "/opt/conda/envs/python35-paddle120-env/lib/python3.7/site-packages/matplotlib/cbook/__init__.py:2349: DeprecationWarning: Using or importing the ABCs from 'collections' instead of from 'collections.abc' is deprecated, and in 3.8 it will stop working\r\n",
      "  if isinstance(obj, collections.Iterator):\r\n",
      "/opt/conda/envs/python35-paddle120-env/lib/python3.7/site-packages/matplotlib/cbook/__init__.py:2366: DeprecationWarning: Using or importing the ABCs from 'collections' instead of from 'collections.abc' is deprecated, and in 3.8 it will stop working\r\n",
      "  return list(data) if isinstance(data, collections.MappingView) else data\r\n",
      "/opt/conda/envs/python35-paddle120-env/lib/python3.7/site-packages/matplotlib/image.py:425: DeprecationWarning: np.asscalar(a) is deprecated since NumPy v1.16, use a.item() instead\r\n",
      "  a_min = np.asscalar(a_min.astype(scaled_dtype))\r\n",
      "/opt/conda/envs/python35-paddle120-env/lib/python3.7/site-packages/matplotlib/image.py:426: DeprecationWarning: np.asscalar(a) is deprecated since NumPy v1.16, use a.item() instead\r\n",
      "  a_max = np.asscalar(a_max.astype(scaled_dtype))\r\n"
     ]
    }
   ],
   "source": [
    "import matplotlib.pyplot as plt\n",
    "# 定义并初始化数据读取器\n",
    "train_loader = paddle.io.DataLoader(train_dataset, batch_size=64, shuffle=True, num_workers=1)\n",
    "# 调用 DataLoader 迭代读取数据\n",
    "for batch_id, (images, labels) in enumerate(train_loader):\n",
    "    print(f\"batch id: {batch_id}, 训练数据shape: {images.shape}, 训练标签shape: {labels.shape}\")\n",
    "    plt.figure(figsize=(2,2))\n",
    "    i = 60\n",
    "    plt.imshow(images[i])\n",
    "    print(\"label:\", labels[i].item())\n",
    "    break\n",
    "    "
   ]
  },
  {
   "cell_type": "markdown",
   "metadata": {},
   "source": [
    "# 二、模型设计"
   ]
  },
  {
   "cell_type": "code",
   "execution_count": 4,
   "metadata": {
    "execution": {
     "iopub.execute_input": "2022-12-14T07:33:55.399332Z",
     "iopub.status.busy": "2022-12-14T07:33:55.398667Z",
     "iopub.status.idle": "2022-12-14T07:33:55.408169Z",
     "shell.execute_reply": "2022-12-14T07:33:55.407309Z",
     "shell.execute_reply.started": "2022-12-14T07:33:55.399288Z"
    },
    "scrolled": true,
    "tags": []
   },
   "outputs": [],
   "source": [
    "class MyDNN(paddle.nn.Layer):\n",
    "    def __init__(self):\n",
    "        super(MyDNN, self).__init__()\n",
    "        self.linear1 = paddle.nn.Linear(in_features=1*28*28, out_features=50)\n",
    "        self.relu1 = paddle.nn.ReLU()\n",
    "        self.linear2 = paddle.nn.Linear(in_features=50, out_features=50)\n",
    "        self.relu2 = paddle.nn.ReLU()\n",
    "        self.linear3 = paddle.nn.Linear(in_features=50, out_features=10)\n",
    "        self.softmax = paddle.nn.Softmax()\n",
    "    \n",
    "    # forward 定义执行实际运行时网络的执行逻辑\n",
    "    def forward(self, input):\n",
    "        # -1 表示这个维度的值是从x的元素总数和剩余维度推断出来的，有且只能有一个维度设置为-1\n",
    "        x = paddle.reshape(input, shape=[-1,1*28*28])\n",
    "        x = self.relu1(self.linear1(x))\n",
    "        x = self.relu2(self.linear2(x))\n",
    "        return self.softmax(self.linear3(x))\n"
   ]
  },
  {
   "cell_type": "markdown",
   "metadata": {},
   "source": [
    "# 三、模型训练"
   ]
  },
  {
   "cell_type": "code",
   "execution_count": 5,
   "metadata": {
    "execution": {
     "iopub.execute_input": "2022-12-14T07:33:55.409628Z",
     "iopub.status.busy": "2022-12-14T07:33:55.409167Z",
     "iopub.status.idle": "2022-12-14T07:34:44.873315Z",
     "shell.execute_reply": "2022-12-14T07:34:44.872147Z",
     "shell.execute_reply.started": "2022-12-14T07:33:55.409599Z"
    },
    "scrolled": true,
    "tags": []
   },
   "outputs": [
    {
     "name": "stdout",
     "output_type": "stream",
     "text": [
      "epoch:1/10, batch_id:100, loss:[1.7057056]\t, accuracy:[0.765625]\r\n",
      "epoch:1/10, batch_id:200, loss:[1.7157594]\t, accuracy:[0.78125]\r\n",
      "epoch:1/10, batch_id:300, loss:[1.6270268]\t, accuracy:[0.859375]\r\n",
      "epoch:1/10, batch_id:400, loss:[1.6775751]\t, accuracy:[0.78125]\r\n",
      "epoch:1/10, batch_id:500, loss:[1.674758]\t, accuracy:[0.796875]\r\n",
      "epoch:1/10, batch_id:600, loss:[1.6527327]\t, accuracy:[0.8125]\r\n",
      "epoch:1/10, batch_id:700, loss:[1.712549]\t, accuracy:[0.75]\r\n",
      "epoch:1/10, batch_id:800, loss:[1.6328678]\t, accuracy:[0.828125]\r\n",
      "epoch:1/10, batch_id:900, loss:[1.620453]\t, accuracy:[0.84375]\r\n",
      "epoch:2/10, batch_id:100, loss:[1.6740692]\t, accuracy:[0.78125]\r\n",
      "epoch:2/10, batch_id:200, loss:[1.6640438]\t, accuracy:[0.796875]\r\n",
      "epoch:2/10, batch_id:300, loss:[1.6593988]\t, accuracy:[0.8125]\r\n",
      "epoch:2/10, batch_id:400, loss:[1.7307248]\t, accuracy:[0.734375]\r\n",
      "epoch:2/10, batch_id:500, loss:[1.5910859]\t, accuracy:[0.875]\r\n",
      "epoch:2/10, batch_id:600, loss:[1.6870292]\t, accuracy:[0.796875]\r\n",
      "epoch:2/10, batch_id:700, loss:[1.6026671]\t, accuracy:[0.859375]\r\n",
      "epoch:2/10, batch_id:800, loss:[1.5846686]\t, accuracy:[0.875]\r\n",
      "epoch:2/10, batch_id:900, loss:[1.5774746]\t, accuracy:[0.890625]\r\n",
      "epoch:3/10, batch_id:100, loss:[1.6059871]\t, accuracy:[0.859375]\r\n",
      "epoch:3/10, batch_id:200, loss:[1.5638161]\t, accuracy:[0.90625]\r\n",
      "epoch:3/10, batch_id:300, loss:[1.6379242]\t, accuracy:[0.8125]\r\n",
      "epoch:3/10, batch_id:400, loss:[1.6508613]\t, accuracy:[0.8125]\r\n",
      "epoch:3/10, batch_id:500, loss:[1.602104]\t, accuracy:[0.859375]\r\n",
      "epoch:3/10, batch_id:600, loss:[1.569]\t, accuracy:[0.890625]\r\n",
      "epoch:3/10, batch_id:700, loss:[1.5658008]\t, accuracy:[0.90625]\r\n",
      "epoch:3/10, batch_id:800, loss:[1.567984]\t, accuracy:[0.890625]\r\n",
      "epoch:3/10, batch_id:900, loss:[1.6699736]\t, accuracy:[0.78125]\r\n",
      "epoch:4/10, batch_id:100, loss:[1.6299039]\t, accuracy:[0.828125]\r\n",
      "epoch:4/10, batch_id:200, loss:[1.6044192]\t, accuracy:[0.84375]\r\n",
      "epoch:4/10, batch_id:300, loss:[1.50003]\t, accuracy:[0.953125]\r\n",
      "epoch:4/10, batch_id:400, loss:[1.678923]\t, accuracy:[0.78125]\r\n",
      "epoch:4/10, batch_id:500, loss:[1.6231163]\t, accuracy:[0.84375]\r\n",
      "epoch:4/10, batch_id:600, loss:[1.5740936]\t, accuracy:[0.890625]\r\n",
      "epoch:4/10, batch_id:700, loss:[1.6060356]\t, accuracy:[0.859375]\r\n",
      "epoch:4/10, batch_id:800, loss:[1.6085606]\t, accuracy:[0.84375]\r\n",
      "epoch:4/10, batch_id:900, loss:[1.5865804]\t, accuracy:[0.875]\r\n",
      "epoch:5/10, batch_id:100, loss:[1.5698063]\t, accuracy:[0.890625]\r\n",
      "epoch:5/10, batch_id:200, loss:[1.6208131]\t, accuracy:[0.828125]\r\n",
      "epoch:5/10, batch_id:300, loss:[1.5738167]\t, accuracy:[0.890625]\r\n",
      "epoch:5/10, batch_id:400, loss:[1.5587463]\t, accuracy:[0.890625]\r\n",
      "epoch:5/10, batch_id:500, loss:[1.6226003]\t, accuracy:[0.84375]\r\n",
      "epoch:5/10, batch_id:600, loss:[1.6186081]\t, accuracy:[0.828125]\r\n",
      "epoch:5/10, batch_id:700, loss:[1.6586856]\t, accuracy:[0.8125]\r\n",
      "epoch:5/10, batch_id:800, loss:[1.6569285]\t, accuracy:[0.8125]\r\n",
      "epoch:5/10, batch_id:900, loss:[1.5590423]\t, accuracy:[0.90625]\r\n",
      "epoch:6/10, batch_id:100, loss:[1.6827434]\t, accuracy:[0.78125]\r\n",
      "epoch:6/10, batch_id:200, loss:[1.5999357]\t, accuracy:[0.859375]\r\n",
      "epoch:6/10, batch_id:300, loss:[1.5758207]\t, accuracy:[0.890625]\r\n",
      "epoch:6/10, batch_id:400, loss:[1.5884299]\t, accuracy:[0.859375]\r\n",
      "epoch:6/10, batch_id:500, loss:[1.5393407]\t, accuracy:[0.921875]\r\n",
      "epoch:6/10, batch_id:600, loss:[1.6116198]\t, accuracy:[0.84375]\r\n",
      "epoch:6/10, batch_id:700, loss:[1.5797672]\t, accuracy:[0.890625]\r\n",
      "epoch:6/10, batch_id:800, loss:[1.6012533]\t, accuracy:[0.859375]\r\n",
      "epoch:6/10, batch_id:900, loss:[1.5507718]\t, accuracy:[0.90625]\r\n",
      "epoch:7/10, batch_id:100, loss:[1.5236027]\t, accuracy:[0.9375]\r\n",
      "epoch:7/10, batch_id:200, loss:[1.6084417]\t, accuracy:[0.84375]\r\n",
      "epoch:7/10, batch_id:300, loss:[1.5562384]\t, accuracy:[0.90625]\r\n",
      "epoch:7/10, batch_id:400, loss:[1.5823114]\t, accuracy:[0.875]\r\n",
      "epoch:7/10, batch_id:500, loss:[1.6395319]\t, accuracy:[0.828125]\r\n",
      "epoch:7/10, batch_id:600, loss:[1.6096174]\t, accuracy:[0.84375]\r\n",
      "epoch:7/10, batch_id:700, loss:[1.5785799]\t, accuracy:[0.875]\r\n",
      "epoch:7/10, batch_id:800, loss:[1.6058447]\t, accuracy:[0.859375]\r\n",
      "epoch:7/10, batch_id:900, loss:[1.5768564]\t, accuracy:[0.875]\r\n",
      "epoch:8/10, batch_id:100, loss:[1.6785724]\t, accuracy:[0.78125]\r\n",
      "epoch:8/10, batch_id:200, loss:[1.5769103]\t, accuracy:[0.890625]\r\n",
      "epoch:8/10, batch_id:300, loss:[1.6309763]\t, accuracy:[0.828125]\r\n",
      "epoch:8/10, batch_id:400, loss:[1.5804818]\t, accuracy:[0.875]\r\n",
      "epoch:8/10, batch_id:500, loss:[1.5586355]\t, accuracy:[0.90625]\r\n",
      "epoch:8/10, batch_id:600, loss:[1.5539734]\t, accuracy:[0.90625]\r\n",
      "epoch:8/10, batch_id:700, loss:[1.6388891]\t, accuracy:[0.8125]\r\n",
      "epoch:8/10, batch_id:800, loss:[1.689248]\t, accuracy:[0.765625]\r\n",
      "epoch:8/10, batch_id:900, loss:[1.5609541]\t, accuracy:[0.90625]\r\n",
      "epoch:9/10, batch_id:100, loss:[1.5790118]\t, accuracy:[0.875]\r\n",
      "epoch:9/10, batch_id:200, loss:[1.5425482]\t, accuracy:[0.921875]\r\n",
      "epoch:9/10, batch_id:300, loss:[1.6164215]\t, accuracy:[0.84375]\r\n",
      "epoch:9/10, batch_id:400, loss:[1.5957463]\t, accuracy:[0.859375]\r\n",
      "epoch:9/10, batch_id:500, loss:[1.556638]\t, accuracy:[0.90625]\r\n",
      "epoch:9/10, batch_id:600, loss:[1.5517884]\t, accuracy:[0.90625]\r\n",
      "epoch:9/10, batch_id:700, loss:[1.6106172]\t, accuracy:[0.84375]\r\n",
      "epoch:9/10, batch_id:800, loss:[1.5253079]\t, accuracy:[0.9375]\r\n",
      "epoch:9/10, batch_id:900, loss:[1.6316197]\t, accuracy:[0.828125]\r\n",
      "epoch:10/10, batch_id:100, loss:[1.572505]\t, accuracy:[0.890625]\r\n",
      "epoch:10/10, batch_id:200, loss:[1.5720832]\t, accuracy:[0.890625]\r\n",
      "epoch:10/10, batch_id:300, loss:[1.569244]\t, accuracy:[0.890625]\r\n",
      "epoch:10/10, batch_id:400, loss:[1.6282043]\t, accuracy:[0.828125]\r\n",
      "epoch:10/10, batch_id:500, loss:[1.5889716]\t, accuracy:[0.875]\r\n",
      "epoch:10/10, batch_id:600, loss:[1.5883346]\t, accuracy:[0.875]\r\n",
      "epoch:10/10, batch_id:700, loss:[1.5858636]\t, accuracy:[0.875]\r\n",
      "epoch:10/10, batch_id:800, loss:[1.5901505]\t, accuracy:[0.875]\r\n",
      "epoch:10/10, batch_id:900, loss:[1.5814655]\t, accuracy:[0.875]\r\n"
     ]
    }
   ],
   "source": [
    "t_loss = []\n",
    "t_acc = []\n",
    "\n",
    "myDNN = MyDNN()\n",
    "epoch = 10\n",
    "optimizer = paddle.optimizer.Adam(learning_rate=0.001, parameters=myDNN.parameters())  # Adam优化器\n",
    "loss_func = paddle.nn.CrossEntropyLoss()  # 设置损失函数\n",
    "myDNN.train()  # 将myDnn模型及其所有子层设置为训练模式。这只会影响某些模块，如Dropout和BatchNorm。\n",
    "for epoch_id in range(epoch):\n",
    "    for batch_id, (images, labels) in enumerate(train_loader):\n",
    "        predicts = myDNN(images)   # 预测结果\n",
    "        loss = loss_func(predicts, labels)  # 计算损失\n",
    "        acc = paddle.metric.accuracy(predicts, labels)  # 计算准确率\n",
    "        # 记录loss和acc\n",
    "        t_loss.append(loss.numpy())\n",
    "        t_acc.append(acc.numpy())\n",
    "        loss.backward()  #反向传播\n",
    "        # 打印训练信息\n",
    "        if (batch_id + 1) % 100 == 0:\n",
    "            print(f\"epoch:{epoch_id + 1}/{epoch}, batch_id:{batch_id + 1}, loss:{loss.numpy()}\\t, accuracy:{acc.numpy()}\")\n",
    "        optimizer.step()  # 更新参数\n",
    "        optimizer.clear_grad()  # 梯度清零\n"
   ]
  },
  {
   "cell_type": "markdown",
   "metadata": {},
   "source": [
    "# 四、模型评估与推理"
   ]
  },
  {
   "cell_type": "code",
   "execution_count": 31,
   "metadata": {
    "execution": {
     "iopub.execute_input": "2022-12-14T07:53:46.647380Z",
     "iopub.status.busy": "2022-12-14T07:53:46.646654Z",
     "iopub.status.idle": "2022-12-14T07:53:46.869784Z",
     "shell.execute_reply": "2022-12-14T07:53:46.868880Z",
     "shell.execute_reply.started": "2022-12-14T07:53:46.647328Z"
    },
    "scrolled": true
   },
   "outputs": [
    {
     "data": {
      "image/png": "[encoded data removed]",
      "text/plain": [
       "<Figure size 640x480 with 1 Axes>"
      ]
     },
     "metadata": {},
     "output_type": "display_data"
    }
   ],
   "source": [
    "plt.plot(t_loss, label='loss', linewidth = 1, alpha=0.7)\r\n",
    "plt.plot(t_acc, label='acc', linewidth = 1, alpha=0.7)\r\n",
    "plt.grid(axis='y')\r\n",
    "plt.legend()  # 显示对应\r\n",
    "plt.show()"
   ]
  },
  {
   "cell_type": "code",
   "execution_count": 7,
   "metadata": {
    "execution": {
     "iopub.execute_input": "2022-12-14T07:34:45.248335Z",
     "iopub.status.busy": "2022-12-14T07:34:45.247666Z",
     "iopub.status.idle": "2022-12-14T07:34:46.345414Z",
     "shell.execute_reply": "2022-12-14T07:34:46.344518Z",
     "shell.execute_reply.started": "2022-12-14T07:34:45.248303Z"
    },
    "scrolled": true,
    "tags": []
   },
   "outputs": [
    {
     "name": "stdout",
     "output_type": "stream",
     "text": [
      "batch_id:30, loss:[1.5875785]\t, accuracy:[0.875]\r\n",
      "batch_id:60, loss:[1.6520193]\t, accuracy:[0.8125]\r\n",
      "batch_id:90, loss:[1.6186035]\t, accuracy:[0.84375]\r\n",
      "batch_id:120, loss:[1.5670494]\t, accuracy:[0.890625]\r\n",
      "batch_id:150, loss:[1.5846488]\t, accuracy:[0.875]\r\n",
      "true:7, predict:7\r\n"
     ]
    },
    {
     "data": {
      "text/plain": [
       "<matplotlib.image.AxesImage at 0x7fc75c7fa190>"
      ]
     },
     "execution_count": 7,
     "metadata": {},
     "output_type": "execute_result"
    },
    {
     "data": {
      "image/png": "[encoded data removed]",
      "text/plain": [
       "<Figure size 640x480 with 1 Axes>"
      ]
     },
     "metadata": {},
     "output_type": "display_data"
    }
   ],
   "source": [
    "# 加载测试数据集\n",
    "test_loader = paddle.io.DataLoader(test_dataset, batch_size=64, drop_last=True)\n",
    "myDNN.eval()  # 将该模型及其所有子层设置为预测模式。这只会影响某些模块，如Dropout和BatchNorm\n",
    "for batch_id, (images, labels) in enumerate(test_loader):\n",
    "    predicts = myDNN(images)  # 预测结果\n",
    "    loss = loss_func(predicts, labels)\n",
    "    acc = paddle.metric.accuracy(predicts, labels)  # 计算损失与精度\n",
    "    if (batch_id + 1) % 30 == 0:\n",
    "        print(f\"batch_id:{batch_id + 1}, loss:{loss.numpy()}\\t, accuracy:{acc.numpy()}\")\n",
    "# 从测试集中取出一组数据\n",
    "images_, labels_ = test_loader().next()\n",
    "i = 0\n",
    "predict_label = myDNN(images_)[i].argmax()  #执行推理并打印结果\n",
    "print(f\"true:{labels_[i].item()}, predict:{predict_label[i].item()}\")\n",
    "plt.imshow(images_[i])"
   ]
  },
  {
   "cell_type": "code",
   "execution_count": 8,
   "metadata": {
    "execution": {
     "iopub.execute_input": "2022-12-14T07:34:46.347114Z",
     "iopub.status.busy": "2022-12-14T07:34:46.346630Z",
     "iopub.status.idle": "2022-12-14T07:34:46.370885Z",
     "shell.execute_reply": "2022-12-14T07:34:46.370049Z",
     "shell.execute_reply.started": "2022-12-14T07:34:46.347071Z"
    },
    "scrolled": true,
    "tags": []
   },
   "outputs": [],
   "source": [
    "paddle.save(myDNN.state_dict(), \"LinearNet_LayerParams.pdparams\")  # 保存Layer参数\n",
    "paddle.save(optimizer.state_dict(), \"Optimizer_AdamParams.adopt\")  # 保存优化器参数"
   ]
  },
  {
   "cell_type": "code",
   "execution_count": 9,
   "metadata": {
    "execution": {
     "iopub.execute_input": "2022-12-14T07:34:46.372646Z",
     "iopub.status.busy": "2022-12-14T07:34:46.372051Z",
     "iopub.status.idle": "2022-12-14T07:34:46.383195Z",
     "shell.execute_reply": "2022-12-14T07:34:46.382511Z",
     "shell.execute_reply.started": "2022-12-14T07:34:46.372618Z"
    },
    "scrolled": true,
    "tags": []
   },
   "outputs": [],
   "source": [
    "# 载入模型参数、优化器参数和最后一个epoch保存的检查点\n",
    "layer_dict = paddle.load(\"LinearNet_LayerParams.pdparams\")\n",
    "opti_dict = paddle.load(\"Optimizer_AdamParams.adopt\")\n",
    "\n",
    "myNet = MyDNN()  # 初始化一个新的网络\n",
    "myNet.set_state_dict(layer_dict)  # 将load后的参数与模型关联起来\n",
    "# 初始化一个新的优化函数\n",
    "optimizer2 = paddle.optimizer.Adam(learning_rate=0.001, parameters=myNet.parameters())\n",
    "optimizer2.set_state_dict(opti_dict)  # 载入数据"
   ]
  },
  {
   "cell_type": "code",
   "execution_count": 10,
   "metadata": {
    "execution": {
     "iopub.execute_input": "2022-12-14T07:34:46.384543Z",
     "iopub.status.busy": "2022-12-14T07:34:46.384190Z",
     "iopub.status.idle": "2022-12-14T07:34:47.412014Z",
     "shell.execute_reply": "2022-12-14T07:34:47.411191Z",
     "shell.execute_reply.started": "2022-12-14T07:34:46.384518Z"
    },
    "scrolled": true,
    "tags": []
   },
   "outputs": [
    {
     "name": "stdout",
     "output_type": "stream",
     "text": [
      "batch_id:30, loss:[1.5875785]\t, accuracy:[0.875]\r\n",
      "batch_id:60, loss:[1.6520193]\t, accuracy:[0.8125]\r\n",
      "batch_id:90, loss:[1.6186035]\t, accuracy:[0.84375]\r\n",
      "batch_id:120, loss:[1.5670494]\t, accuracy:[0.890625]\r\n",
      "batch_id:150, loss:[1.5846488]\t, accuracy:[0.875]\r\n",
      "true:3, predict:3\r\n"
     ]
    },
    {
     "data": {
      "text/plain": [
       "<matplotlib.image.AxesImage at 0x7fc75c71a0d0>"
      ]
     },
     "execution_count": 10,
     "metadata": {},
     "output_type": "execute_result"
    },
    {
     "data": {
      "image/png": "[encoded data removed]",
      "text/plain": [
       "<Figure size 640x480 with 1 Axes>"
      ]
     },
     "metadata": {},
     "output_type": "display_data"
    }
   ],
   "source": [
    "# 给新生成且载入了数据的网络进行测试，重复之前的测试代码\n",
    "myNet.eval()\n",
    "for batch_id, (images, labels) in enumerate(test_loader):\n",
    "    predicts = myNet(images)\n",
    "    loss = loss_func(predicts, labels)\n",
    "    acc = paddle.metric.accuracy(predicts, labels)\n",
    "    if (batch_id + 1) % 30 == 0:\n",
    "        print(f\"batch_id:{batch_id + 1}, loss:{loss.numpy()}\\t, accuracy:{acc.numpy()}\")\n",
    "images_, labels_ = test_loader().next()\n",
    "i = -1\n",
    "predict_label = myDNN(images_)[i].argmax()\n",
    "print(f\"true:{labels_[i].item()}, predict:{predict_label[i].item()}\")\n",
    "plt.imshow(images_[i])"
   ]
  }
 ],
 "metadata": {
  "kernelspec": {
   "display_name": "Python 3",
   "language": "python",
   "name": "py35-paddle1.2.0"
  },
  "language_info": {
   "codemirror_mode": {
    "name": "ipython",
    "version": 3
   },
   "file_extension": ".py",
   "mimetype": "text/x-python",
   "name": "python",
   "nbconvert_exporter": "python",
   "pygments_lexer": "ipython3",
   "version": "3.7.4"
  }
 },
 "nbformat": 4,
 "nbformat_minor": 4
}
